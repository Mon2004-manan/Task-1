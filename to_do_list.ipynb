{
  "nbformat": 4,
  "nbformat_minor": 0,
  "metadata": {
    "colab": {
      "provenance": []
    },
    "kernelspec": {
      "name": "python3",
      "display_name": "Python 3"
    },
    "language_info": {
      "name": "python"
    }
  },
  "cells": [
    {
      "cell_type": "markdown",
      "source": [
        "TO-DO-LIST"
      ],
      "metadata": {
        "id": "Nmpc9-sZ8gR0"
      }
    },
    {
      "cell_type": "code",
      "source": [
        "def main():\n",
        "  tasks = []\n",
        "\n",
        "  while True:\n",
        "    print(\"1. Add Task\")\n",
        "    print(\"2. View Tasks\")\n",
        "    print(\"3. Mark Task Done\")\n",
        "    print(\"4. Exit\")\n",
        "\n",
        "    choice = input(\"Enter your choice: \")\n",
        "\n",
        "    if choice == '1':\n",
        "      task = input(\"Enter task: \")\n",
        "      tasks.append(task)\n",
        "      print(\"Task added!\")\n",
        "    elif choice == '2':\n",
        "      if not tasks:\n",
        "        print(\"No tasks added yet!\")\n",
        "      else:\n",
        "        print(\"Tasks:\")\n",
        "        for i, task in enumerate(tasks):\n",
        "          print(f\"{i+1}. {task}\")\n",
        "    elif choice == '3':\n",
        "      if not tasks:\n",
        "        print(\"No tasks to mark as done!\")\n",
        "      else:\n",
        "        print(\"Tasks:\")\n",
        "        for i, task in enumerate(tasks):\n",
        "          print(f\"{i+1}. {task}\")\n",
        "        task_number = int(input(\"Enter task number to mark done: \")) - 1\n",
        "        if task_number < 0 or task_number >= len(tasks):\n",
        "          print(\"Invalid task number!\")\n",
        "        else:\n",
        "          tasks.pop(task_number)\n",
        "          print(\"Task marked as done!\")\n",
        "    elif choice == '4':\n",
        "      print(\"Exiting...\")\n",
        "      break\n",
        "    else:\n",
        "      print(\"Invalid choice!\")\n",
        "\n",
        "if __name__ == \"__main__\":\n",
        "  main()\n"
      ],
      "metadata": {
        "colab": {
          "base_uri": "https://localhost:8080/"
        },
        "id": "7VwWITYIj_qh",
        "outputId": "9fc3f084-5514-4af4-e71c-51b15fe0e9a7"
      },
      "execution_count": null,
      "outputs": [
        {
          "output_type": "stream",
          "name": "stdout",
          "text": [
            "1. Add Task\n",
            "2. View Tasks\n",
            "3. Mark Task Done\n",
            "4. Exit\n",
            "Enter your choice: 1\n",
            "Enter task: coding\n",
            "Task added!\n",
            "1. Add Task\n",
            "2. View Tasks\n",
            "3. Mark Task Done\n",
            "4. Exit\n",
            "Enter your choice: 2\n",
            "Tasks:\n",
            "1. coding\n",
            "1. Add Task\n",
            "2. View Tasks\n",
            "3. Mark Task Done\n",
            "4. Exit\n",
            "Enter your choice: 4\n",
            "Exiting...\n"
          ]
        }
      ]
    },
    {
      "cell_type": "markdown",
      "source": [],
      "metadata": {
        "id": "U1bJoeLF_GPH"
      }
    }
  ]
}